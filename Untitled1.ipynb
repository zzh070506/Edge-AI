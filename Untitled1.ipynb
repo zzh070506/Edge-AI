{
 "cells": [
  {
   "cell_type": "code",
   "execution_count": 1,
   "id": "a80f660c-4ba8-4ef0-8199-aa6336f54073",
   "metadata": {},
   "outputs": [
    {
     "name": "stdout",
     "output_type": "stream",
     "text": [
      "Python 版本: 3.13.5\n",
      "Jupyter Notebook 版本: 7.3.2\n",
      "NumPy 版本: 2.1.3\n",
      "Pandas 版本: 2.2.3\n",
      "Matplotlib 版本: 3.10.0\n",
      "PyTorch 版本: 2.8.0+cpu\n"
     ]
    }
   ],
   "source": [
    "# 输出Python版本\n",
    "import sys\n",
    "print(f\"Python 版本: {sys.version.split()[0]}\")\n",
    "\n",
    "# 输出Jupyter Notebook版本\n",
    "import notebook\n",
    "print(f\"Jupyter Notebook 版本: {notebook.__version__}\")\n",
    "\n",
    "# 输出NumPy版本\n",
    "import numpy as np\n",
    "print(f\"NumPy 版本: {np.__version__}\")\n",
    "\n",
    "# 输出Pandas版本\n",
    "import pandas as pd\n",
    "print(f\"Pandas 版本: {pd.__version__}\")\n",
    "\n",
    "# 输出Matplotlib版本\n",
    "import matplotlib as mpl\n",
    "print(f\"Matplotlib 版本: {mpl.__version__}\")\n",
    "\n",
    "# 输出PyTorch版本\n",
    "import torch\n",
    "print(f\"PyTorch 版本: {torch.__version__}\")"
   ]
  },
  {
   "cell_type": "code",
   "execution_count": null,
   "id": "b1f70888-942e-4f2c-a717-98d175df2b0c",
   "metadata": {},
   "outputs": [],
   "source": []
  }
 ],
 "metadata": {
  "kernelspec": {
   "display_name": "Python 3 (ipykernel)",
   "language": "python",
   "name": "python3"
  },
  "language_info": {
   "codemirror_mode": {
    "name": "ipython",
    "version": 3
   },
   "file_extension": ".py",
   "mimetype": "text/x-python",
   "name": "python",
   "nbconvert_exporter": "python",
   "pygments_lexer": "ipython3",
   "version": "3.13.5"
  }
 },
 "nbformat": 4,
 "nbformat_minor": 5
}
